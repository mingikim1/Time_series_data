{
  "nbformat": 4,
  "nbformat_minor": 0,
  "metadata": {
    "colab": {
      "provenance": []
    },
    "kernelspec": {
      "name": "python3",
      "display_name": "Python 3"
    },
    "language_info": {
      "name": "python"
    }
  },
  "cells": [
    {
      "cell_type": "code",
      "source": [
        "!pip install fastdtw"
      ],
      "metadata": {
        "colab": {
          "base_uri": "https://localhost:8080/"
        },
        "id": "MaBHHbW6tvOt",
        "outputId": "ef5dadbd-e8dd-4edc-e627-ca9eaca199e3"
      },
      "execution_count": null,
      "outputs": [
        {
          "output_type": "stream",
          "name": "stdout",
          "text": [
            "Collecting fastdtw\n",
            "  Downloading fastdtw-0.3.4.tar.gz (133 kB)\n",
            "\u001b[2K     \u001b[90m━━━━━━━━━━━━━━━━━━━━━━━━━━━━━━━━━━━━━━━━\u001b[0m \u001b[32m133.4/133.4 kB\u001b[0m \u001b[31m2.6 MB/s\u001b[0m eta \u001b[36m0:00:00\u001b[0m\n",
            "\u001b[?25h  Preparing metadata (setup.py) ... \u001b[?25l\u001b[?25hdone\n",
            "Requirement already satisfied: numpy in /usr/local/lib/python3.10/dist-packages (from fastdtw) (1.23.5)\n",
            "Building wheels for collected packages: fastdtw\n",
            "  Building wheel for fastdtw (setup.py) ... \u001b[?25l\u001b[?25hdone\n",
            "  Created wheel for fastdtw: filename=fastdtw-0.3.4-cp310-cp310-linux_x86_64.whl size=512412 sha256=55ae48887f49f45654d4ed70df9d049e8d6116b4ee2e87e1fdb8d35e089ba7a5\n",
            "  Stored in directory: /root/.cache/pip/wheels/73/c8/f7/c25448dab74c3acf4848bc25d513c736bb93910277e1528ef4\n",
            "Successfully built fastdtw\n",
            "Installing collected packages: fastdtw\n",
            "Successfully installed fastdtw-0.3.4\n"
          ]
        }
      ]
    },
    {
      "cell_type": "code",
      "source": [
        "import numpy as np\n",
        "from scipy.spatial.distance import euclidean\n",
        "from fastdtw import fastdtw\n",
        "import matplotlib.pyplot as plt\n",
        "import pandas as pd"
      ],
      "metadata": {
        "id": "7-Z4nuj-tzRq"
      },
      "execution_count": null,
      "outputs": []
    },
    {
      "cell_type": "code",
      "execution_count": null,
      "metadata": {
        "id": "eauw1FGto6JO"
      },
      "outputs": [],
      "source": [
        "class dongha_mingi_model:\n",
        "\n",
        "    def __init__(self, last, last_gdp, last_con, this = None):\n",
        "        self.last = last\n",
        "        self.last_gdp = last_gdp\n",
        "        self.last_con = last_con\n",
        "        self.forecast_last = []\n",
        "        self.alpha = 0\n",
        "        self.beta = 0\n",
        "        self.this = this\n",
        "        self.this_arr = []\n",
        "        self.threshold = None\n",
        "\n",
        "    def fit(self, alpha, beta, threshold = None):\n",
        "        self.alpha = alpha\n",
        "        self.beta = beta\n",
        "        self.threshold = threshold\n",
        "        this = self.this[['Date', 'Close']].copy()\n",
        "        last = self.last[['Date', 'Close']].copy()\n",
        "        last_arr = last.iloc[:, 1].to_numpy().reshape(-1, 1)\n",
        "        last_gdp_arr = self.last_gdp.reshape(-1, 1).copy()\n",
        "        last_con_arr = self.last_con.reshape(-1, 1).copy()\n",
        "        self.this_arr = this.iloc[:, 1].to_numpy().reshape(-1, 1)\n",
        "\n",
        "        last_max = np.max(last_arr)\n",
        "        last_min = np.min(last_arr)\n",
        "        last_gdp_max = np.max(last_gdp_arr)\n",
        "        last_gdp_min = np.min(last_gdp_arr)\n",
        "        last_con_max = np.max(last_con_arr)\n",
        "        last_con_min = np.min(last_con_arr)\n",
        "        this_max = np.max(self.this_arr)\n",
        "        this_min = np.min(self.this_arr)\n",
        "\n",
        "\n",
        "        for i in range(len(last_arr)):\n",
        "            last_arr[i] = (last_arr[i] - last_min) / (last_max - last_min)\n",
        "\n",
        "        for i in range(len(last_gdp_arr)):\n",
        "            last_gdp_arr[i] = (last_gdp_arr[i] - last_gdp_min) / (last_gdp_max - last_gdp_min)\n",
        "\n",
        "        for i in range(len(last_con_arr)):\n",
        "            last_con_arr[i] = (last_con_arr[i] - last_con_min) / (last_con_max - last_con_min)\n",
        "\n",
        "        for i in range(len(self.this_arr)):\n",
        "            self.this_arr[i] = (self.this_arr[i] - this_max) / (this_max - this_min)\n",
        "\n",
        "        gdp_distance, gdp_path = fastdtw(last_gdp_arr, last_arr, dist=euclidean)\n",
        "        con_distance, con_path = fastdtw(last_con_arr, last_arr, dist=euclidean)\n",
        "\n",
        "        last_ratio = 0\n",
        "        gdp_ratio = gdp_distance / (gdp_distance + con_distance)\n",
        "        con_ratio = con_distance / (gdp_distance + con_distance)\n",
        "\n",
        "        last_weight = 1 - last_ratio\n",
        "        gdp_weight = 1 - gdp_ratio\n",
        "        con_weight = 1 - con_ratio\n",
        "\n",
        "        weight_list = [last_weight, gdp_weight, con_weight]\n",
        "\n",
        "\n",
        "        if threshold is None :\n",
        "          pass\n",
        "        elif threshold is not None :\n",
        "          for i in range(len(weight_list)):\n",
        "            if weight_list[i] < threshold :\n",
        "               weight_list[i] = 0\n",
        "\n",
        "        result = []\n",
        "\n",
        "        for i in range(len(last_arr)):\n",
        "            result.append(last_arr[i] * weight_list[0] + last_gdp_arr[i] * weight_list[1] + last_con_arr[i] * weight_list[2])\n",
        "\n",
        "        def double_exponential_smoothing(data, alpha, beta):\n",
        "            level = data[0]\n",
        "            trend = 0\n",
        "            forecast = [data[0]]\n",
        "\n",
        "            for t in range(1, len(data)) :\n",
        "              prev_level = level\n",
        "              prev_trend = trend\n",
        "\n",
        "              level = alpha * data[t] + (1 - alpha) * (prev_level + prev_trend)\n",
        "              trend = beta * (level - prev_level) + (1 - beta) * prev_trend\n",
        "\n",
        "              forecast_t = level + trend\n",
        "              forecast.append(forecast_t)\n",
        "\n",
        "            return forecast\n",
        "\n",
        "        forecast = double_exponential_smoothing(result, alpha, beta)\n",
        "\n",
        "        self.forecast_last = []\n",
        "\n",
        "        for i in range(len(forecast)):\n",
        "           self.forecast_last.append(forecast[i][0])\n",
        "\n",
        "\n",
        "\n",
        "    def getValue(self):\n",
        "      if self.threshold is None:\n",
        "        return np.array([self.alpha, self.beta])\n",
        "      elif self.threshold is not None:\n",
        "        return np.array([self.alpha, self.beta, self.threshold])\n",
        "\n",
        "    def loss(self) :\n",
        "        return np.sum((((self.this_arr - self.forecast_last)**2)/len(self.this)) / np.linalg.norm(self.this_arr))"
      ]
    },
    {
      "cell_type": "code",
      "source": [
        "from google.colab import drive\n",
        "drive.mount('/content/drive')"
      ],
      "metadata": {
        "colab": {
          "base_uri": "https://localhost:8080/"
        },
        "id": "M91jJpWuqAot",
        "outputId": "873a9925-cf3a-48d4-f4d8-5eb518e6cb8f"
      },
      "execution_count": null,
      "outputs": [
        {
          "output_type": "stream",
          "name": "stdout",
          "text": [
            "Drive already mounted at /content/drive; to attempt to forcibly remount, call drive.mount(\"/content/drive\", force_remount=True).\n"
          ]
        }
      ]
    },
    {
      "cell_type": "code",
      "source": [
        "kospi2022 = pd.read_csv(\"/content/drive/MyDrive/캡스톤디자인/KOSPI2022.csv\")\n",
        "last_gdp =np.array([512012.9, 512012.9, 512012.9, 544239.8, 544239.8, 544239.8, 548892.5, 548892.5, 548892.5, 556628.7, 556628.7, 556628.7])\n",
        "last_con = pd.read_csv(\"/content/drive/MyDrive/캡스톤디자인/2022소비자물가지수.csv\")\n",
        "last_con = last_con.iloc[0, :]\n",
        "last_con = last_con[1:].to_numpy()\n",
        "kospi2023 = pd.read_csv(\"/content/drive/MyDrive/캡스톤디자인/KOSPI_monthly.csv\")"
      ],
      "metadata": {
        "id": "F15txkbgwSZJ"
      },
      "execution_count": null,
      "outputs": []
    },
    {
      "cell_type": "code",
      "source": [
        "model1 = dongha_mingi_model(last = kospi2022, last_gdp = last_gdp, last_con = last_con, this = kospi2023)"
      ],
      "metadata": {
        "id": "_J7hA19nxAoz"
      },
      "execution_count": null,
      "outputs": []
    },
    {
      "cell_type": "code",
      "source": [
        "model1.fit(alpha = 0.3, beta = 0.3)"
      ],
      "metadata": {
        "id": "6lXRHbMxp860"
      },
      "execution_count": null,
      "outputs": []
    },
    {
      "cell_type": "code",
      "source": [
        "model1.forecast_last"
      ],
      "metadata": {
        "colab": {
          "base_uri": "https://localhost:8080/"
        },
        "id": "b1Qao-nBszyF",
        "outputId": "4b0e4629-2cca-46b5-8165-5ef2916325f5"
      },
      "execution_count": null,
      "outputs": [
        {
          "output_type": "execute_result",
          "data": {
            "text/plain": [
              "[0.8433807828774889,\n",
              " 0.8752612685543112,\n",
              " 0.974607149412655,\n",
              " 1.1892224983596853,\n",
              " 1.4091505152428245,\n",
              " 1.4007692162890701,\n",
              " 1.488565792610659,\n",
              " 1.5053547868142996,\n",
              " 1.287002009791621,\n",
              " 1.2132488689938674,\n",
              " 1.206274683092365,\n",
              " 1.0512749700613067]"
            ]
          },
          "metadata": {},
          "execution_count": 8
        }
      ]
    },
    {
      "cell_type": "code",
      "source": [
        "model1.getValue()"
      ],
      "metadata": {
        "colab": {
          "base_uri": "https://localhost:8080/"
        },
        "id": "L_8GQUiIwRmY",
        "outputId": "0b4cc53f-04ee-489e-9320-0fea8452ab40"
      },
      "execution_count": null,
      "outputs": [
        {
          "output_type": "execute_result",
          "data": {
            "text/plain": [
              "array([0.3, 0.3])"
            ]
          },
          "metadata": {},
          "execution_count": 9
        }
      ]
    },
    {
      "cell_type": "code",
      "source": [
        "model2 = dongha_mingi_model(last = kospi2022, last_gdp = last_gdp, last_con = last_con, this = kospi2023)"
      ],
      "metadata": {
        "id": "G5NCcRO_KYHD"
      },
      "execution_count": null,
      "outputs": []
    },
    {
      "cell_type": "code",
      "source": [
        "model2.fit(alpha = 0.3, beta = 0.3, threshold = 0.5)"
      ],
      "metadata": {
        "id": "MLZ2NdZux0l6"
      },
      "execution_count": null,
      "outputs": []
    },
    {
      "cell_type": "code",
      "source": [
        "model2.forecast_last"
      ],
      "metadata": {
        "colab": {
          "base_uri": "https://localhost:8080/"
        },
        "id": "MdVLDZxwuqLz",
        "outputId": "51e3977b-30e5-4ca1-be69-6c2452983ebe"
      },
      "execution_count": null,
      "outputs": [
        {
          "output_type": "execute_result",
          "data": {
            "text/plain": [
              "[0.8433807828774889,\n",
              " 0.8752612685543112,\n",
              " 0.974607149412655,\n",
              " 1.0765694163433106,\n",
              " 1.2017821881157595,\n",
              " 1.1197665019452556,\n",
              " 1.1390483028586027,\n",
              " 1.1095834132195896,\n",
              " 0.8647222259960081,\n",
              " 0.7536254274148035,\n",
              " 0.7258860211993884,\n",
              " 0.5635948639113463]"
            ]
          },
          "metadata": {},
          "execution_count": 12
        }
      ]
    },
    {
      "cell_type": "code",
      "source": [
        "model2.getValue()"
      ],
      "metadata": {
        "colab": {
          "base_uri": "https://localhost:8080/"
        },
        "id": "M6oq6mW7wm8j",
        "outputId": "e1a8fb6b-8d3a-4473-b6ea-6e62ea0679f3"
      },
      "execution_count": null,
      "outputs": [
        {
          "output_type": "execute_result",
          "data": {
            "text/plain": [
              "array([0.3, 0.3, 0.5])"
            ]
          },
          "metadata": {},
          "execution_count": 13
        }
      ]
    },
    {
      "cell_type": "code",
      "source": [
        "model1.loss()"
      ],
      "metadata": {
        "colab": {
          "base_uri": "https://localhost:8080/"
        },
        "id": "nRhrtNEtBmZL",
        "outputId": "6e63ba98-88d9-4f3d-e177-02e44a79edf6"
      },
      "execution_count": null,
      "outputs": [
        {
          "output_type": "execute_result",
          "data": {
            "text/plain": [
              "18.4595831399838"
            ]
          },
          "metadata": {},
          "execution_count": 14
        }
      ]
    },
    {
      "cell_type": "code",
      "source": [
        "model2.loss()"
      ],
      "metadata": {
        "colab": {
          "base_uri": "https://localhost:8080/"
        },
        "id": "KevlcIFTPX2N",
        "outputId": "45a9642b-a908-4974-c98c-3b768c2b5dfe"
      },
      "execution_count": null,
      "outputs": [
        {
          "output_type": "execute_result",
          "data": {
            "text/plain": [
              "13.166779809241188"
            ]
          },
          "metadata": {},
          "execution_count": 15
        }
      ]
    }
  ]
}