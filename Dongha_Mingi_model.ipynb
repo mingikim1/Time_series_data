{
  "nbformat": 4,
  "nbformat_minor": 0,
  "metadata": {
    "colab": {
      "provenance": []
    },
    "kernelspec": {
      "name": "python3",
      "display_name": "Python 3"
    },
    "language_info": {
      "name": "python"
    }
  },
  "cells": [
    {
      "cell_type": "code",
      "source": [
        "!pip install fastdtw"
      ],
      "metadata": {
        "colab": {
          "base_uri": "https://localhost:8080/"
        },
        "id": "MaBHHbW6tvOt",
        "outputId": "90718a95-aea3-40b8-91e4-26cdd588b74e"
      },
      "execution_count": 1,
      "outputs": [
        {
          "output_type": "stream",
          "name": "stdout",
          "text": [
            "Collecting fastdtw\n",
            "  Downloading fastdtw-0.3.4.tar.gz (133 kB)\n",
            "\u001b[?25l     \u001b[90m━━━━━━━━━━━━━━━━━━━━━━━━━━━━━━━━━━━━━━━━\u001b[0m \u001b[32m0.0/133.4 kB\u001b[0m \u001b[31m?\u001b[0m eta \u001b[36m-:--:--\u001b[0m\r\u001b[2K     \u001b[91m━━━━━━━━━━━━━━━━━━━━━━━━━━━━━━━━━━━━\u001b[0m\u001b[91m╸\u001b[0m\u001b[90m━━━\u001b[0m \u001b[32m122.9/133.4 kB\u001b[0m \u001b[31m3.4 MB/s\u001b[0m eta \u001b[36m0:00:01\u001b[0m\r\u001b[2K     \u001b[90m━━━━━━━━━━━━━━━━━━━━━━━━━━━━━━━━━━━━━━━━\u001b[0m \u001b[32m133.4/133.4 kB\u001b[0m \u001b[31m2.8 MB/s\u001b[0m eta \u001b[36m0:00:00\u001b[0m\n",
            "\u001b[?25h  Preparing metadata (setup.py) ... \u001b[?25l\u001b[?25hdone\n",
            "Requirement already satisfied: numpy in /usr/local/lib/python3.10/dist-packages (from fastdtw) (1.23.5)\n",
            "Building wheels for collected packages: fastdtw\n",
            "  Building wheel for fastdtw (setup.py) ... \u001b[?25l\u001b[?25hdone\n",
            "  Created wheel for fastdtw: filename=fastdtw-0.3.4-cp310-cp310-linux_x86_64.whl size=512408 sha256=810706b788e63ef0a0e834262d7c77ee36a708e05372cd1ccde44bbbf4304513\n",
            "  Stored in directory: /root/.cache/pip/wheels/73/c8/f7/c25448dab74c3acf4848bc25d513c736bb93910277e1528ef4\n",
            "Successfully built fastdtw\n",
            "Installing collected packages: fastdtw\n",
            "Successfully installed fastdtw-0.3.4\n"
          ]
        }
      ]
    },
    {
      "cell_type": "code",
      "source": [
        "import numpy as np\n",
        "from scipy.spatial.distance import euclidean\n",
        "from fastdtw import fastdtw\n",
        "import matplotlib.pyplot as plt\n",
        "import pandas as pd"
      ],
      "metadata": {
        "id": "7-Z4nuj-tzRq"
      },
      "execution_count": 7,
      "outputs": []
    },
    {
      "cell_type": "code",
      "execution_count": 32,
      "metadata": {
        "id": "eauw1FGto6JO"
      },
      "outputs": [],
      "source": [
        "class dongha_mingi_model:\n",
        "\n",
        "    def __init__(self, last, last_gdp, last_con):\n",
        "        self.last = last\n",
        "        self.last_gdp = last_gdp\n",
        "        self.last_con = last_con\n",
        "\n",
        "    def fit(self, alpha, beta, threshold):\n",
        "        last = self.last[['Date', 'Close']].copy()\n",
        "        last_arr = last.iloc[:, 1].to_numpy().reshape(-1, 1)\n",
        "        last_gdp_arr = self.last_gdp.reshape(-1, 1).copy()\n",
        "        last_con_arr = self.last_con.reshape(-1, 1).copy()\n",
        "\n",
        "        last_max = np.max(last_arr)\n",
        "        last_min = np.min(last_arr)\n",
        "        last_gdp_max = np.max(last_gdp_arr)\n",
        "        last_gdp_min = np.min(last_gdp_arr)\n",
        "        last_con_max = np.max(last_con_arr)\n",
        "        last_con_min = np.min(last_con_arr)\n",
        "\n",
        "        for i in range(len(last_arr)):\n",
        "            last_arr[i] = (last_arr[i] - last_min) / (last_max - last_min)\n",
        "\n",
        "        for i in range(len(last_gdp_arr)):\n",
        "            last_gdp_arr[i] = (last_gdp_arr[i] - last_gdp_min) / (last_gdp_max - last_gdp_min)\n",
        "\n",
        "        for i in range(len(last_con_arr)):\n",
        "            last_con_arr[i] = (last_con_arr[i] - last_con_min) / (last_con_max - last_con_min)\n",
        "\n",
        "        gdp_distance, gdp_path = fastdtw(last_gdp_arr, last_arr, dist=euclidean)\n",
        "        con_distance, con_path = fastdtw(last_con_arr, last_arr, dist=euclidean)\n",
        "\n",
        "        last_ratio = 0\n",
        "        gdp_ratio = gdp_distance / (gdp_distance + con_distance)\n",
        "        con_ratio = con_distance / (gdp_distance + con_distance)\n",
        "\n",
        "        last_weight = 1 - last_ratio\n",
        "        gdp_weight = 1 - gdp_ratio\n",
        "        con_weight = 1 - con_ratio\n",
        "\n",
        "        weight_list = [last_weight, gdp_weight, con_weight]\n",
        "\n",
        "        for i in range(len(weight_list)):\n",
        "            if weight_list[i] < threshold:\n",
        "                weight_list[i] = 0\n",
        "\n",
        "        result = []\n",
        "\n",
        "        for i in range(len(last_arr)):\n",
        "            result.append(last_arr[i] * last_weight + last_gdp_arr[i] * gdp_weight + last_con_arr[i] * con_weight)\n",
        "\n",
        "        def double_exponential_smoothing(data, alpha, beta):\n",
        "            level = data[0]\n",
        "            trend = 0\n",
        "            forecast = [data[0]]\n",
        "\n",
        "            for t in range(1, len(data)) :\n",
        "              prev_level = level\n",
        "              prev_trend = trend\n",
        "\n",
        "              level = alpha * data[t] + (1 - alpha) * (prev_level + prev_trend)\n",
        "              trend = beta * (level - prev_level) + (1 - beta) * prev_trend\n",
        "\n",
        "              forecast_t = level + trend\n",
        "              forecast.append(forecast_t)\n",
        "\n",
        "            return forecast\n",
        "\n",
        "        forecast_th = double_exponential_smoothing(result, alpha, beta)\n",
        "\n",
        "        forecast_last_th = []\n",
        "\n",
        "        for i in range(len(forecast_th)):\n",
        "            forecast_last_th.append(forecast_th[i][0])\n",
        "\n",
        "        plt.figure(figsize=(8, 6))\n",
        "        plt.plot(np.arange(len(forecast_last_th)), forecast_last_th)\n",
        "        plt.title('Forecast with threshold')\n",
        "        plt.show()\n"
      ]
    },
    {
      "cell_type": "code",
      "source": [
        "from google.colab import drive\n",
        "drive.mount('/content/drive')"
      ],
      "metadata": {
        "colab": {
          "base_uri": "https://localhost:8080/"
        },
        "id": "M91jJpWuqAot",
        "outputId": "55bca4a2-1d6b-4070-9509-796d1bf00b82"
      },
      "execution_count": 6,
      "outputs": [
        {
          "output_type": "stream",
          "name": "stdout",
          "text": [
            "Mounted at /content/drive\n"
          ]
        }
      ]
    },
    {
      "cell_type": "code",
      "source": [
        "last = pd.read_csv(\"/content/drive/MyDrive/캡스톤디자인/KOSPI2022.csv\")\n",
        "last_gdp =np.array([512012.9, 512012.9, 512012.9, 544239.8, 544239.8, 544239.8, 548892.5, 548892.5, 548892.5, 556628.7, 556628.7, 556628.7])\n",
        "last_con = pd.read_csv(\"/content/drive/MyDrive/캡스톤디자인/2022소비자물가지수.csv\")\n",
        "last_con = last_con.iloc[0, :]\n",
        "last_con = last_con[1:].to_numpy()"
      ],
      "metadata": {
        "id": "F15txkbgwSZJ"
      },
      "execution_count": 36,
      "outputs": []
    },
    {
      "cell_type": "code",
      "source": [],
      "metadata": {
        "id": "DAmPPA0O0ku9"
      },
      "execution_count": null,
      "outputs": []
    },
    {
      "cell_type": "code",
      "source": [
        "model = dongha_mingi_model(last, last_gdp, last_con)"
      ],
      "metadata": {
        "id": "_J7hA19nxAoz"
      },
      "execution_count": 37,
      "outputs": []
    },
    {
      "cell_type": "code",
      "source": [
        "model.fit(0.3, 0.7, 0.5)"
      ],
      "metadata": {
        "colab": {
          "base_uri": "https://localhost:8080/",
          "height": 545
        },
        "id": "MLZ2NdZux0l6",
        "outputId": "a5cfb66e-4834-472d-873f-7d1f39e87ecb"
      },
      "execution_count": 42,
      "outputs": [
        {
          "output_type": "display_data",
          "data": {
            "text/plain": [
              "<Figure size 800x600 with 1 Axes>"
            ],
            "image/png": "[encoded data removed]"
          },
          "metadata": {}
        }
      ]
    }
  ]
}